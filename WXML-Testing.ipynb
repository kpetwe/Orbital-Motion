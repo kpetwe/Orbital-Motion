{
 "cells": [
  {
   "cell_type": "code",
   "execution_count": 25,
   "metadata": {},
   "outputs": [],
   "source": [
    "import numpy as np\n",
    "from math import *\n",
    "import matplotlib.pyplot as plt\n",
    "from scipy.fft import fft, ifft\n",
    "from scipy.signal import find_peaks\n",
    "from scipy.stats import entropy as ent\n",
    "\n",
    "from planetary_motion import OrbitalMotion2 as om\n",
    "from planetary_motion import Coordinates\n",
    "from planetary_motion import Trig"
   ]
  },
  {
   "attachments": {},
   "cell_type": "markdown",
   "metadata": {},
   "source": [
    "### Orbital Motion testing\n",
    "\n",
    "The following code segments demonstrate how to calculate information using the orbital motion equations. "
   ]
  },
  {
   "cell_type": "code",
   "execution_count": 21,
   "metadata": {},
   "outputs": [
    {
     "name": "stdout",
     "output_type": "stream",
     "text": [
      "(-0.3678208693993782, 0.06108452909848423, 0.03869908805497192, 170.57086510954457, 5.925527266740486, 0.37486148252012297)\n",
      "0.5132266546425799 0.48296234260038473 0.25158260486587974\n",
      "(43.25988423931299, 19.64595158381238, 0.7482967529508375)\n"
     ]
    }
   ],
   "source": [
    "# Example from Tutorial\n",
    "# https://www.stjarnhimlen.se/comp/tutorial.html#5\n",
    "d = om.date(19, 4.0, 1990)\n",
    "sun_arr = om.sunPos(d)\n",
    "merc_arr = om.getPlanPos(1, d)\n",
    "# Heliocentric\n",
    "print(merc_arr)\n",
    "merc_geo = om.togeo(sun_arr, merc_arr)\n",
    "#print(merc_geo)\n",
    "mer_geo_eq = Coordinates.ecEq(merc_geo[0], merc_geo[1], merc_geo[2], sun_arr[11])\n",
    "print(mer_geo_eq[0], mer_geo_eq[1], mer_geo_eq[2])\n",
    "sphere = Coordinates.sphere(mer_geo_eq[0], mer_geo_eq[1], mer_geo_eq[2])\n",
    "print(sphere)"
   ]
  },
  {
   "cell_type": "code",
   "execution_count": 29,
   "metadata": {},
   "outputs": [
    {
     "name": "stdout",
     "output_type": "stream",
     "text": [
      "(0.8810475240419581, 0.4820994287140291, 0.0, 23.4405623709)\n",
      "(43.25988423931299, 19.64595158381238, 0.7482967529508375)\n"
     ]
    }
   ],
   "source": [
    "# Using OrbitalMotion2\n",
    "# https://www.stjarnhimlen.se/comp/tutorial.html#5\n",
    "d = om.date(19, 4.0, 1990)\n",
    "sun_arr = om.getSunData(d = 19, m = 4, y = 1990, ct = \"rect\", csys = \"eclip\")\n",
    "print(sun_arr)\n",
    "merc_arr = om.getPlanData(d = 19, m = 4, y = 1990, p = \"mercury\", ct=\"sphere\", geoc=True)\n",
    "print(merc_arr)"
   ]
  },
  {
   "cell_type": "code",
   "execution_count": 22,
   "metadata": {},
   "outputs": [
    {
     "name": "stdout",
     "output_type": "stream",
     "text": [
      "Long/Lat 306.9483873098253 -0.5856163847702522 60.67790303343744\n",
      "RA =  309.5011258456264 Decl =  -19.103244594505494\n",
      "HA =  272.3377060183736\n",
      "Azi (101.786802739008, -15.316677995212503)\n",
      "-16.22744064557752\n"
     ]
    }
   ],
   "source": [
    "d = om.date(19, 4.0, 1990)\n",
    "sun_arr = om.sunPos(d)\n",
    "moon_arr = om.getPlanPos(0, d)\n",
    "# Geocentric Longitude and Latitude\n",
    "print(\"Long/Lat\", Trig.rev(moon_arr[3]), moon_arr[4], moon_arr[5])\n",
    "#mag = sqrt(moon_arr[0] ** 2 + moon_arr[1] ** 2 + moon_arr[2] ** 2)\n",
    "#print(moon_arr[0], moon_arr[1], moon_arr[2])\n",
    "\n",
    "#print(moon_arr[0] / mag, moon_arr[1] / mag, moon_arr[2] / mag)\n",
    "# RA and Decl\n",
    "rect = Coordinates.rect(moon_arr[3], moon_arr[4])\n",
    "#print(rect)\n",
    "equat = Coordinates.ecEq(rect[0], rect[1], rect[2], sun_arr[11])\n",
    "#print(equat)\n",
    "sphere = Coordinates.sphere(equat[0], equat[1], equat[2])\n",
    "print('RA = ', Trig.rev(sphere[0]), \"Decl = \", sphere[1])\n",
    "LST = om.sidereal(0, sun_arr[9], 15)\n",
    "#print(LST/15)\n",
    "azi = Coordinates.azimuthal(sphere[0], sphere[1], LST, 60)\n",
    "print(\"Azi\", azi)\n",
    "print(azi[1] - Trig.asind(1/moon_arr[5])*Trig.cosd(azi[1]))"
   ]
  },
  {
   "cell_type": "code",
   "execution_count": 19,
   "metadata": {},
   "outputs": [
    {
     "name": "stdout",
     "output_type": "stream",
     "text": [
      "26.658077679334305 11.008374735025573\n",
      "HA =  195.1807541846657\n",
      "(15.676697321318017, -17.957006397288975)\n"
     ]
    }
   ],
   "source": [
    "print(sun_arr[6], sun_arr[7])\n",
    "azi = Coordinates.azimuthal(sun_arr[6], sun_arr[7], LST, 60)\n",
    "print(azi)"
   ]
  },
  {
   "cell_type": "code",
   "execution_count": 24,
   "metadata": {},
   "outputs": [],
   "source": [
    "\"\"\"\n",
    "    Collecting data for two planets starting at \n",
    "    date value d and continuing for const days\n",
    "\"\"\"\n",
    "d = 0.0\n",
    "const = 365*13\n",
    "# x,y,z equatorial coordinates\n",
    "p1 = np.zeros((3, const))\n",
    "p2 = np.zeros((3, const))\n",
    "for i in range (const):\n",
    "    sun_arr = om.sunPos(d)\n",
    "    p1_arr = om.getPlanPos(1, d)\n",
    "    p2_arr = om.getPlanPos(4, d)\n",
    "    \n",
    "    p1_geo = om.togeo(sun_arr, p1_arr)\n",
    "    p1_geo_eq = Coordinates.ecEq(p1_geo[0], p1_geo[1], p1_geo[2], sun_arr[11])\n",
    "    p1[0][i] = p1_geo_eq[0]\n",
    "    p1[1][i] = p1_geo_eq[1]\n",
    "    p1[2][i] = p1_geo_eq[2]\n",
    "\n",
    "    p2_geo = om.togeo(sun_arr, p2_arr)\n",
    "    p2_geo_eq = Coordinates.ecEq(p2_geo[0], p2_geo[1], p2_geo[2], sun_arr[11])\n",
    "    p2[0][i] = p2_geo_eq[0]\n",
    "    p2[1][i] = p2_geo_eq[1]\n",
    "    p2[2][i] = p2_geo_eq[2]\n",
    "    d += 1"
   ]
  },
  {
   "attachments": {},
   "cell_type": "markdown",
   "metadata": {},
   "source": [
    "### WXML testing: Planetary Signs Correlation\n",
    "FFT of the distance between planets in geocentric orbit. It may be interesting to calculate\n",
    "an explicit correlation value in the future."
   ]
  },
  {
   "cell_type": "code",
   "execution_count": null,
   "metadata": {},
   "outputs": [],
   "source": [
    "plt.plot(p1[0], p1[1])\n",
    "plt.plot(p2[0], p2[1])\n",
    "plt.title(\"Geocentric orbit of Jupiter and Mercury in 2D for 13 years\")\n",
    "plt.ylabel(\"Location from Earth in astronomical units (y)\")\n",
    "plt.xlabel(\"Location from Earth in astronomical units (x)\")"
   ]
  },
  {
   "cell_type": "code",
   "execution_count": null,
   "metadata": {},
   "outputs": [],
   "source": [
    "mag = np.sqrt((p1[0] - p2[0]) ** 2 + (p1[1] - p2[1]) ** 2 + (p1[2] - p2[2]) ** 2 )\n",
    "plt.plot(np.arange(0, const), mag)\n",
    "plt.title(\"Magnitude of distance between Jupiter and Mercury (au) vs Time (days)\")\n",
    "plt.ylabel(\"Planet distance in astronomical units\")\n",
    "plt.xlabel(\"Days elapsed since Dec 31st, 1999\")\n",
    "\n",
    "\n",
    "print(find_peaks(mag))"
   ]
  },
  {
   "cell_type": "code",
   "execution_count": null,
   "metadata": {},
   "outputs": [],
   "source": [
    "y = fft(mag)\n",
    "z =np.log(abs(y))\n",
    "plt.plot(z)\n",
    "z1 = find_peaks(z)\n",
    "print(z1)\n",
    "plt.title(\"Log of Fourier Transform of the distance between Jupiter and Mercury\")\n",
    "plt.ylabel(\"Intensity\")\n",
    "plt.xlabel(\"Frequency\")"
   ]
  },
  {
   "cell_type": "code",
   "execution_count": 14,
   "metadata": {},
   "outputs": [],
   "source": [
    "# Temporary function for returning information pertaining to a singular planet\n",
    "def temp_func(n, const):    \n",
    "    d = 0.0\n",
    "    # x,y,z equatorial coordinates\n",
    "    p1 = np.zeros((3, const))\n",
    "    sun = np.zeros((3, const))\n",
    "    p1_0 = np.zeros((3, const))\n",
    "    #sun_0 = np.zeros((2, const))\n",
    "    for i in range (const):\n",
    "        sun_arr = om.sunPos(d)\n",
    "        p1_arr = om.getPlanPos(n, d)\n",
    "        \n",
    "        p1_geo = om.togeo(sun_arr, p1_arr)\n",
    "        p1_geo_eq = Coordinates.ecEq(p1_geo[0], p1_geo[1], p1_geo[2], sun_arr[11])\n",
    "\n",
    "        sun[0][i] = sun_arr[3] \n",
    "        sun[1][i] = sun_arr[4]\n",
    "        sun[2][i] = sun_arr[5] \n",
    "\n",
    "        #sun_0[0][i] = sun_arr[6]\n",
    "        #sun_0[0][i] = sun_arr[7]\n",
    "\n",
    "\n",
    "        p1[0][i] = p1_geo_eq[0] \n",
    "        p1[1][i] = p1_geo_eq[1] \n",
    "        p1[2][i] = p1_geo_eq[2] \n",
    "\n",
    "        temp = Coordinates.sphere(p1_geo[0], p1_geo[1], p1_geo[2])\n",
    "        p1_0[0][i] = temp[0]\n",
    "        p1_0[1][i] = temp[1]\n",
    "        p1_0[2][i] = p1_arr[5]\n",
    "        d += 1\n",
    "\n",
    "    return p1, sun, p1_0"
   ]
  },
  {
   "attachments": {},
   "cell_type": "markdown",
   "metadata": {},
   "source": [
    "### WXML Testing - RA Distribution\n",
    "Code for displaying the right ascension angle distribution of planets and the frequency of their appearance."
   ]
  },
  {
   "cell_type": "code",
   "execution_count": 15,
   "metadata": {},
   "outputs": [
    {
     "data": {
      "image/png": "[encoded data removed]",
      "text/plain": [
       "<Figure size 640x480 with 1 Axes>"
      ]
     },
     "metadata": {},
     "output_type": "display_data"
    }
   ],
   "source": [
    "# Distribution of RA angles for Mercury (we hope)\n",
    "const = 365\n",
    "p1, sun, p1_0 = temp_func(1, const)\n",
    "\n",
    "plt.hist(p1_0[0], bins = [-180, -150, -120, -90, -60, -30, 0, 30, 60, 90, 120, 150, 180])\n",
    "plt.title(\"Distribution of planetary signs for Mercury for 1 year\")\n",
    "plt.xlabel(\"Range of Right-Ascension angle (in degrees) representing 1 planetary sign\")\n",
    "plt.ylabel(\"Days Mercury lies within this range\")\n",
    "plt.show()\n",
    "\n",
    "#print(p1_0[0])"
   ]
  },
  {
   "cell_type": "code",
   "execution_count": 16,
   "metadata": {},
   "outputs": [
    {
     "data": {
      "image/png": "[encoded data removed]",
      "text/plain": [
       "<Figure size 640x480 with 1 Axes>"
      ]
     },
     "metadata": {},
     "output_type": "display_data"
    }
   ],
   "source": [
    "# Distribution of RA angles to Venus on 1 day for 50 years\n",
    "const = 50*365\n",
    "p1, sun, p1_0 = temp_func(2, const)\n",
    "p1_2 = np.zeros(50)\n",
    "\n",
    "# Get the nth year's value\n",
    "for i in range(50):\n",
    "    v = 365 * i\n",
    "    p1_2[i] = p1_0[0][v]\n",
    "\n",
    "plt.hist(p1_2, bins = [-140, -130, -115, -100, -90, -80, -70, -60, -50, -40, -30])\n",
    "plt.title(\"Distribution of Right-Ascension angles of Venus on 1 day for 50 years\")\n",
    "plt.xlabel(\"Range of Right-Ascension angle (in degrees)\")\n",
    "plt.ylabel(\"Days Venus lies within this range\")\n",
    "plt.show()"
   ]
  },
  {
   "cell_type": "code",
   "execution_count": 17,
   "metadata": {},
   "outputs": [
    {
     "name": "stdout",
     "output_type": "stream",
     "text": [
      "Days Mercury lies in the sign of range [-140,-130) degrees:  6\n",
      "Days Mercury lies in the sign of range [-130,-115) degrees:  7\n",
      "Days Mercury lies in the sign of range [-115,-100) degrees:  6\n",
      "Days Mercury lies in the sign of range [-100,-90) degrees:  3\n",
      "Days Mercury lies in the sign of range [-90,-80) degrees:  3\n",
      "Days Mercury lies in the sign of range [-80,-70) degrees:  5\n",
      "Days Mercury lies in the sign of range [-70,-60) degrees:  6\n",
      "Days Mercury lies in the sign of range [-60,-50) degrees:  6\n",
      "Days Mercury lies in the sign of range [-50,-40) degrees:  5\n",
      "Days Mercury lies in the sign of range [-40,-30) degrees:  3\n",
      "50\n"
     ]
    }
   ],
   "source": [
    "# Numerical data on distribution values\n",
    "\n",
    "p1_hist = np.histogram(p1_2, bins=[-140, -130, -115, -100, -90, -80, -70, -60, -50, -40, -30])\n",
    "\n",
    "for i in range(len(p1_hist[0])):\n",
    "    print(\"Days Mercury lies in the sign of range [\" +  str(p1_hist[1][i]) + \",\" + str(p1_hist[1][i+1]) + \") degrees: \", p1_hist[0][i])\n",
    "p1_hist\n",
    "\n",
    "# Make sure all data is covered within the provided range\n",
    "sum = 0\n",
    "for i in range(len(p1_hist[0])):\n",
    "    sum += p1_hist[0][i]\n",
    "\n",
    "print(sum)"
   ]
  },
  {
   "attachments": {},
   "cell_type": "markdown",
   "metadata": {},
   "source": [
    "### WXML Testing -- Entropy\n",
    "Code for calculating entropy for these RA values and the displaying results."
   ]
  },
  {
   "cell_type": "code",
   "execution_count": 137,
   "metadata": {},
   "outputs": [],
   "source": [
    "'''\n",
    "    A quick method for calculating the entropy of a system with discrete probabilities.\n",
    "    We will check our calculated values with the scipy implementation.\n",
    "    @param pdist: probability distribution of the events in a system\n",
    "'''\n",
    "\n",
    "def ent_calc(pdist):\n",
    "    entropy = 0\n",
    "    print(\"Rounded probabilities:\", end=' ')\n",
    "    for i in range(len(pdist)):\n",
    "        px = pdist[i]\n",
    "        # Probabilities (rounded)\n",
    "        print(\"%.2f\" %(px), end=' ')\n",
    "        if px != 0:\n",
    "            entropy += -px * np.log2(px)\n",
    "    return entropy"
   ]
  },
  {
   "cell_type": "code",
   "execution_count": 138,
   "metadata": {},
   "outputs": [
    {
     "name": "stdout",
     "output_type": "stream",
     "text": [
      "Rounded probabilities: 0.12 0.14 0.12 0.06 0.06 0.10 0.12 0.12 0.10 0.06 \n",
      "Calculated Entropy: 3.260365631233224\n",
      "Calculated Entropy (scipy method): 3.2603656312332245\n",
      "Normalized Value: 0.9814678518331308\n",
      "Max Entropy: 3.321928094887362\n"
     ]
    }
   ],
   "source": [
    "# Our calculation\n",
    "entval = ent_calc(p1_hist[0]/50)\n",
    "print('\\nCalculated Entropy:', entval)\n",
    "\n",
    "# Scipy method \n",
    "print('Calculated Entropy (scipy method):', ent(p1_hist[0]/50, base=2))\n",
    "\n",
    "# Normalized Value\n",
    "print('Normalized Value:', entval/np.log2(len(p1_hist[0])))\n",
    "# Max Value of Entropy\n",
    "print('Max Entropy:', np.log2(len(p1_hist[0])))"
   ]
  },
  {
   "attachments": {},
   "cell_type": "markdown",
   "metadata": {},
   "source": [
    "### WXML Testing -- Generated Keys\n",
    "Code used to print decimal values to a file and for calculating entropy of final codes."
   ]
  },
  {
   "cell_type": "code",
   "execution_count": null,
   "metadata": {},
   "outputs": [],
   "source": [
    "# Take the first 4 decimal values of the RA angle over whatever you're iterating over\n",
    "# This sample is taking for at approximately the same day at 25 year intervals\n",
    "# Sample codes: 2325 0249 8162 6063\n",
    "scripts = []\n",
    "for i in range(0, 93, 1):\n",
    "    temp = str (object=p1_0[0][i])\n",
    "    scripts.append(temp[(temp.index('.'))+1:(temp.index('.'))+5])\n",
    "    #print(temp[(temp.index('.'))+1:(temp.index('.'))+5])\n",
    "    \n",
    "    for j in range(1,4):\n",
    "        temp1 = str (object=p1_0[0][i+(365*25*j)])\n",
    "        scripts[len(scripts)-1] = scripts[len(scripts)-1] + temp1[(temp1.index('.'))+1:(temp1.index('.'))+5]"
   ]
  },
  {
   "cell_type": "code",
   "execution_count": null,
   "metadata": {},
   "outputs": [],
   "source": [
    "# Export the codes to a file\n",
    "f = open('25yrjump.txt', 'w')\n",
    "for i in range(len(scripts)):\n",
    "    f.write(scripts[i])\n",
    "    f.write('\\n')\n",
    "f.close()"
   ]
  },
  {
   "cell_type": "code",
   "execution_count": 145,
   "metadata": {},
   "outputs": [],
   "source": [
    "# Excerpt of randomized strings via Von-Neumann\n",
    "# Increment each day and collect over 4 days\n",
    "st1 = \"01001010111011010000011000010000000001101100101001010101110000000010000010101010010010110000001011100100000011000100000001001000\"\n",
    "# Increment by each month and collect over 4 months\n",
    "st2 = \"01001000100010010000100001001100101010101000100001000101000100001110110110000001010101101010100101000100000000011010000110010001\"\n",
    "# Increment by 25 years and collect over 100 years\n",
    "st3 = \"01001110000101010110000100010011101100101010000010000001000101000110110001000101011011011000110101011001000100110000011000101110\"\n",
    "\n",
    "gen_keys = np.array([st1, st2, st3])"
   ]
  },
  {
   "cell_type": "code",
   "execution_count": 144,
   "metadata": {},
   "outputs": [],
   "source": [
    "'''\n",
    "    Returns percentage distribution of 1's and 0's appearing in \n",
    "    Randomized string\n",
    "'''\n",
    "def sumBinarys(text):\n",
    "    zeros = 0\n",
    "    ones = 0\n",
    "    for i in range(len(text)):\n",
    "        if text[i] == '0':\n",
    "            zeros+=1\n",
    "        else:\n",
    "            ones+=1\n",
    "\n",
    "    return np.array([zeros/len(text), ones/len(text)])"
   ]
  },
  {
   "cell_type": "code",
   "execution_count": 146,
   "metadata": {},
   "outputs": [
    {
     "name": "stdout",
     "output_type": "stream",
     "text": [
      "Percentage of zeros:  0.6640625\n",
      "Percentage of ones:  0.3359375\n",
      "Calculated entropy:  0.9208780154383215\n",
      "Percentage of zeros:  0.65625\n",
      "Percentage of ones:  0.34375\n",
      "Calculated entropy:  0.9283620723948678\n",
      "Percentage of zeros:  0.59375\n",
      "Percentage of ones:  0.40625\n",
      "Calculated entropy:  0.9744894033980523\n"
     ]
    }
   ],
   "source": [
    "# Entropy values for generated keys\n",
    "for i in range(3):\n",
    "    vals = sumBinarys(gen_keys[i])\n",
    "    print(\"Percentage of zeros: \", vals[0])\n",
    "    print(\"Percentage of ones: \", vals[1])\n",
    "    print(\"Calculated entropy: \", ent(vals, base=2))"
   ]
  }
 ],
 "metadata": {
  "kernelspec": {
   "display_name": "base",
   "language": "python",
   "name": "python3"
  },
  "language_info": {
   "codemirror_mode": {
    "name": "ipython",
    "version": 3
   },
   "file_extension": ".py",
   "mimetype": "text/x-python",
   "name": "python",
   "nbconvert_exporter": "python",
   "pygments_lexer": "ipython3",
   "version": "3.9.13"
  },
  "orig_nbformat": 4,
  "vscode": {
   "interpreter": {
    "hash": "11c06f22fd3c29de4f94812483706f10a7dbf49685fba689490db17a491d21c0"
   }
  }
 },
 "nbformat": 4,
 "nbformat_minor": 2
}
